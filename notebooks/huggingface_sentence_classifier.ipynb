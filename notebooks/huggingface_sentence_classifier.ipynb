{
  "cells": [
    {
      "cell_type": "markdown",
      "metadata": {
        "id": "TWBGGtqD4uVc"
      },
      "source": [
        "# Install and import dependencies"
      ]
    },
    {
      "cell_type": "markdown",
      "metadata": {
        "id": "H-Q4wodi1PZY"
      },
      "source": [
        "Install the Transformers, Datasets, and Evaluate libraries to run this notebook."
      ]
    },
    {
      "cell_type": "markdown",
      "metadata": {
        "id": "vgPUVK_m407W"
      },
      "source": [
        "Load imports"
      ]
    },
    {
      "cell_type": "code",
      "execution_count": 1,
      "metadata": {
        "id": "ablOp3yB410Z"
      },
      "outputs": [],
      "source": [
        "from transformers import pipeline\n",
        "\n",
        "from tqdm import tqdm\n",
        "import pandas as pd\n",
        "import seaborn as sns\n",
        "import matplotlib.pyplot as plt\n",
        "from langdetect import detect, LangDetectException\n",
        "\n",
        "from sklearn.metrics import accuracy_score, classification_report, confusion_matrix"
      ]
    },
    {
      "cell_type": "markdown",
      "metadata": {
        "id": "Xk3qCJsF49Es"
      },
      "source": [
        "# Load classifier"
      ]
    },
    {
      "cell_type": "code",
      "execution_count": 2,
      "metadata": {
        "colab": {
          "base_uri": "https://localhost:8080/"
        },
        "id": "2EkQincS1TYH",
        "outputId": "f77779e8-afa9-49bc-a1bd-a262ccba1b9f"
      },
      "outputs": [],
      "source": [
        "classifier = pipeline(\"zero-shot-classification\", model=\"facebook/bart-large-mnli\", revision=\"c626438\", device=\"mps\")"
      ]
    },
    {
      "cell_type": "code",
      "execution_count": 3,
      "metadata": {},
      "outputs": [],
      "source": [
        "sample_rename_mappings = {\n",
        "  \"Interested in products or services\": \"random\",\n",
        "  \"Requests\": \"video request\",\n",
        "  \"Compliments\": \"compliment\",\n",
        "  \"Questions (can be potential leads)\": \"question\",\n",
        "  \"Hate Speech\": \"hate_speech\",\n",
        "  \"Random\": \"random\",\n",
        "  \"Problems with products or services\": \"problem\"\n",
        "}\n",
        "classifier_labels = [v for k,v in sample_rename_mappings.items()]"
      ]
    },
    {
      "cell_type": "code",
      "execution_count": 4,
      "metadata": {
        "id": "mnvcaGe32Jay"
      },
      "outputs": [
        {
          "data": {
            "text/plain": [
              "{'sequence': \"Dear Marina,I just wanted to say a big thank you for your amazing YouTube content that has helped me improve my English so much! 🙌📚 Your videos are awesome, and I'm truly grateful for all the valuable lessons and tips you share. Keep up the fantastic work! 💓👏🌟\",\n",
              " 'labels': ['compliment',\n",
              "  'video request',\n",
              "  'question',\n",
              "  'problem',\n",
              "  'random',\n",
              "  'random',\n",
              "  'hate_speech'],\n",
              " 'scores': [0.7603687047958374,\n",
              "  0.15332449972629547,\n",
              "  0.029150063171982765,\n",
              "  0.022072985768318176,\n",
              "  0.014438104815781116,\n",
              "  0.014438104815781116,\n",
              "  0.0062075089663267136]}"
            ]
          },
          "execution_count": 4,
          "metadata": {},
          "output_type": "execute_result"
        }
      ],
      "source": [
        "result = classifier(\n",
        "    \"Dear Marina,I just wanted to say a big thank you for your amazing YouTube content that has helped me improve my English so much! 🙌📚 Your videos are awesome, and I'm truly grateful for all the valuable lessons and tips you share. Keep up the fantastic work! 💓👏🌟\",\n",
        "    candidate_labels=classifier_labels,\n",
        ")\n",
        "result\n"
      ]
    },
    {
      "cell_type": "code",
      "execution_count": 5,
      "metadata": {
        "id": "tuMh2hS7lwbJ"
      },
      "outputs": [],
      "source": [
        "def process_text(text: str):\n",
        "    classifications = classifier(text, classifier_labels)\n",
        "    scores = classifications[\"scores\"]\n",
        "\n",
        "    return pd.Series({f\"pred_{label}\": score for label, score in zip(classifier_labels, scores)})"
      ]
    },
    {
      "cell_type": "markdown",
      "metadata": {
        "id": "aJpjRIMD4fzB"
      },
      "source": [
        "# Test classifier on sample dataset"
      ]
    },
    {
      "cell_type": "code",
      "execution_count": 6,
      "metadata": {
        "colab": {
          "base_uri": "https://localhost:8080/",
          "height": 206
        },
        "id": "6WcpuoHsvKkJ",
        "outputId": "4453c376-86d3-4efd-f4de-990da2a2854c"
      },
      "outputs": [
        {
          "data": {
            "text/html": [
              "<div>\n",
              "<style scoped>\n",
              "    .dataframe tbody tr th:only-of-type {\n",
              "        vertical-align: middle;\n",
              "    }\n",
              "\n",
              "    .dataframe tbody tr th {\n",
              "        vertical-align: top;\n",
              "    }\n",
              "\n",
              "    .dataframe thead th {\n",
              "        text-align: right;\n",
              "    }\n",
              "</style>\n",
              "<table border=\"1\" class=\"dataframe\">\n",
              "  <thead>\n",
              "    <tr style=\"text-align: right;\">\n",
              "      <th></th>\n",
              "      <th>label</th>\n",
              "      <th>comment</th>\n",
              "    </tr>\n",
              "  </thead>\n",
              "  <tbody>\n",
              "    <tr>\n",
              "      <th>0</th>\n",
              "      <td>Interested in products or services</td>\n",
              "      <td>Yes Marina, It's essential for me to learn Eng...</td>\n",
              "    </tr>\n",
              "    <tr>\n",
              "      <th>1</th>\n",
              "      <td>Interested in products or services</td>\n",
              "      <td>That's what I've always wanted</td>\n",
              "    </tr>\n",
              "    <tr>\n",
              "      <th>2</th>\n",
              "      <td>Interested in products or services</td>\n",
              "      <td>I am not a professional guy. I am just studyin...</td>\n",
              "    </tr>\n",
              "    <tr>\n",
              "      <th>3</th>\n",
              "      <td>Interested in products or services</td>\n",
              "      <td>Do you think it's still essential to learn Eng...</td>\n",
              "    </tr>\n",
              "    <tr>\n",
              "      <th>4</th>\n",
              "      <td>Interested in products or services</td>\n",
              "      <td>Hi Marina, thanks for sharing these useful vid...</td>\n",
              "    </tr>\n",
              "  </tbody>\n",
              "</table>\n",
              "</div>"
            ],
            "text/plain": [
              "                                label  \\\n",
              "0  Interested in products or services   \n",
              "1  Interested in products or services   \n",
              "2  Interested in products or services   \n",
              "3  Interested in products or services   \n",
              "4  Interested in products or services   \n",
              "\n",
              "                                             comment  \n",
              "0  Yes Marina, It's essential for me to learn Eng...  \n",
              "1                     That's what I've always wanted  \n",
              "2  I am not a professional guy. I am just studyin...  \n",
              "3  Do you think it's still essential to learn Eng...  \n",
              "4  Hi Marina, thanks for sharing these useful vid...  "
            ]
          },
          "execution_count": 6,
          "metadata": {},
          "output_type": "execute_result"
        }
      ],
      "source": [
        "df = pd.read_csv(\"sample.csv\")\n",
        "df.head()"
      ]
    },
    {
      "cell_type": "code",
      "execution_count": 7,
      "metadata": {},
      "outputs": [
        {
          "data": {
            "text/plain": [
              "label\n",
              "random           15\n",
              "video request     8\n",
              "compliment        8\n",
              "question          5\n",
              "hate_speech       2\n",
              "Name: count, dtype: int64"
            ]
          },
          "execution_count": 7,
          "metadata": {},
          "output_type": "execute_result"
        }
      ],
      "source": [
        "y = \"label\"\n",
        "\n",
        "# Rename labels\n",
        "df[y] = df[y].replace(sample_rename_mappings)\n",
        "\n",
        "df[y].value_counts()"
      ]
    },
    {
      "cell_type": "code",
      "execution_count": 8,
      "metadata": {
        "colab": {
          "base_uri": "https://localhost:8080/"
        },
        "id": "iKE2Xgyk3-0X",
        "outputId": "8da9e158-f57e-4db3-805a-99bb50a59732"
      },
      "outputs": [
        {
          "name": "stdout",
          "output_type": "stream",
          "text": [
            "Total number of samples: 38\n"
          ]
        },
        {
          "data": {
            "image/png": "[encoded data removed]",
            "text/plain": [
              "<Figure size 640x480 with 1 Axes>"
            ]
          },
          "metadata": {},
          "output_type": "display_data"
        }
      ],
      "source": [
        "# plot distribution of labels\n",
        "sns.countplot(df[y])\n",
        "\n",
        "# write total number of samples\n",
        "print(f\"Total number of samples: {len(df)}\")"
      ]
    },
    {
      "cell_type": "code",
      "execution_count": 9,
      "metadata": {
        "colab": {
          "base_uri": "https://localhost:8080/"
        },
        "id": "5a91NzUmvo9K",
        "outputId": "4b0397d3-b9fe-468a-a488-f0f9fe1040c5"
      },
      "outputs": [
        {
          "name": "stderr",
          "output_type": "stream",
          "text": [
            "Assigning classifications: 100%|██████████| 38/38 [01:05<00:00,  1.73s/it]\n"
          ]
        }
      ],
      "source": [
        "# apply classifications\n",
        "tqdm.pandas(desc='Assigning classifications')\n",
        "\n",
        "X = \"comment\"\n",
        "result_df = df[X].progress_apply(process_text)\n",
        "df = pd.concat([df, result_df], axis=1)"
      ]
    },
    {
      "cell_type": "code",
      "execution_count": 10,
      "metadata": {
        "id": "xZ-tLtxe9-1K"
      },
      "outputs": [],
      "source": [
        "y_pred_values = [f\"pred_{x}\" for x in classifier_labels]\n",
        "\n",
        "def get_highest_prediction_label(row):\n",
        "  scores = {label: row[label] for label in y_pred_values}\n",
        "  highest_label = max(scores, key=scores.get)\n",
        "  return highest_label[5:]"
      ]
    },
    {
      "cell_type": "code",
      "execution_count": 11,
      "metadata": {
        "colab": {
          "base_uri": "https://localhost:8080/",
          "height": 206
        },
        "id": "EM0hYTAUANlK",
        "outputId": "5bb64e4a-3dfd-47b8-d14a-cd5f16b3d7a4"
      },
      "outputs": [
        {
          "data": {
            "text/html": [
              "<div>\n",
              "<style scoped>\n",
              "    .dataframe tbody tr th:only-of-type {\n",
              "        vertical-align: middle;\n",
              "    }\n",
              "\n",
              "    .dataframe tbody tr th {\n",
              "        vertical-align: top;\n",
              "    }\n",
              "\n",
              "    .dataframe thead th {\n",
              "        text-align: right;\n",
              "    }\n",
              "</style>\n",
              "<table border=\"1\" class=\"dataframe\">\n",
              "  <thead>\n",
              "    <tr style=\"text-align: right;\">\n",
              "      <th></th>\n",
              "      <th>label</th>\n",
              "      <th>pred_label</th>\n",
              "    </tr>\n",
              "  </thead>\n",
              "  <tbody>\n",
              "    <tr>\n",
              "      <th>0</th>\n",
              "      <td>random</td>\n",
              "      <td>video request</td>\n",
              "    </tr>\n",
              "    <tr>\n",
              "      <th>1</th>\n",
              "      <td>random</td>\n",
              "      <td>video request</td>\n",
              "    </tr>\n",
              "    <tr>\n",
              "      <th>2</th>\n",
              "      <td>random</td>\n",
              "      <td>video request</td>\n",
              "    </tr>\n",
              "    <tr>\n",
              "      <th>3</th>\n",
              "      <td>random</td>\n",
              "      <td>video request</td>\n",
              "    </tr>\n",
              "    <tr>\n",
              "      <th>4</th>\n",
              "      <td>random</td>\n",
              "      <td>video request</td>\n",
              "    </tr>\n",
              "  </tbody>\n",
              "</table>\n",
              "</div>"
            ],
            "text/plain": [
              "    label     pred_label\n",
              "0  random  video request\n",
              "1  random  video request\n",
              "2  random  video request\n",
              "3  random  video request\n",
              "4  random  video request"
            ]
          },
          "execution_count": 11,
          "metadata": {},
          "output_type": "execute_result"
        }
      ],
      "source": [
        "y_pred = f\"pred_{y}\"\n",
        "\n",
        "df[y_pred] = df.apply(get_highest_prediction_label, axis=1)\n",
        "df[[y, y_pred]].head()"
      ]
    },
    {
      "cell_type": "code",
      "execution_count": 12,
      "metadata": {},
      "outputs": [
        {
          "data": {
            "text/plain": [
              "<Axes: xlabel='count', ylabel='pred_label'>"
            ]
          },
          "execution_count": 12,
          "metadata": {},
          "output_type": "execute_result"
        },
        {
          "data": {
            "image/png": "[encoded data removed]",
            "text/plain": [
              "<Figure size 640x480 with 1 Axes>"
            ]
          },
          "metadata": {},
          "output_type": "display_data"
        }
      ],
      "source": [
        "# plot distribution of predicted labels\n",
        "sns.countplot(df[y_pred])"
      ]
    },
    {
      "cell_type": "markdown",
      "metadata": {
        "id": "VwqwtOJ88B_R"
      },
      "source": [
        "Find evaluation metrics"
      ]
    },
    {
      "cell_type": "code",
      "execution_count": 13,
      "metadata": {},
      "outputs": [
        {
          "data": {
            "text/plain": [
              "0.21052631578947367"
            ]
          },
          "execution_count": 13,
          "metadata": {},
          "output_type": "execute_result"
        }
      ],
      "source": [
        "# Calculate accuracy\n",
        "accuracy_score(df[y], df[y_pred])"
      ]
    },
    {
      "cell_type": "code",
      "execution_count": 14,
      "metadata": {},
      "outputs": [],
      "source": [
        "# Generate confusion matrix\n",
        "cm = confusion_matrix(y_true=df[y], y_pred=df[y_pred])"
      ]
    },
    {
      "cell_type": "code",
      "execution_count": 15,
      "metadata": {
        "colab": {
          "base_uri": "https://localhost:8080/"
        },
        "id": "Wx1tdXVw70Xc",
        "outputId": "0a8f9ef2-44c0-4f75-90a3-5496be72e0c6"
      },
      "outputs": [
        {
          "name": "stdout",
          "output_type": "stream",
          "text": [
            "               precision    recall  f1-score   support\n",
            "\n",
            "   compliment       0.00      0.00      0.00         8\n",
            "  hate_speech       0.00      0.00      0.00         2\n",
            "     question       0.00      0.00      0.00         5\n",
            "       random       0.00      0.00      0.00        15\n",
            "video request       0.21      1.00      0.35         8\n",
            "\n",
            "     accuracy                           0.21        38\n",
            "    macro avg       0.04      0.20      0.07        38\n",
            " weighted avg       0.04      0.21      0.07        38\n",
            "\n"
          ]
        },
        {
          "name": "stderr",
          "output_type": "stream",
          "text": [
            "/Users/flerovious/Documents/agent/.venv/lib/python3.9/site-packages/sklearn/metrics/_classification.py:1469: UndefinedMetricWarning: Precision and F-score are ill-defined and being set to 0.0 in labels with no predicted samples. Use `zero_division` parameter to control this behavior.\n",
            "  _warn_prf(average, modifier, msg_start, len(result))\n",
            "/Users/flerovious/Documents/agent/.venv/lib/python3.9/site-packages/sklearn/metrics/_classification.py:1469: UndefinedMetricWarning: Precision and F-score are ill-defined and being set to 0.0 in labels with no predicted samples. Use `zero_division` parameter to control this behavior.\n",
            "  _warn_prf(average, modifier, msg_start, len(result))\n",
            "/Users/flerovious/Documents/agent/.venv/lib/python3.9/site-packages/sklearn/metrics/_classification.py:1469: UndefinedMetricWarning: Precision and F-score are ill-defined and being set to 0.0 in labels with no predicted samples. Use `zero_division` parameter to control this behavior.\n",
            "  _warn_prf(average, modifier, msg_start, len(result))\n"
          ]
        }
      ],
      "source": [
        "# Generate a classification report, including precision, recall, and F1-score\n",
        "print(classification_report(y_true=df[y], y_pred=df[y_pred]))"
      ]
    },
    {
      "cell_type": "code",
      "execution_count": 16,
      "metadata": {
        "colab": {
          "base_uri": "https://localhost:8080/",
          "height": 455
        },
        "id": "IM6YeXRG8jkf",
        "outputId": "60d398e3-f316-4e15-e81b-d6d4bc25b775"
      },
      "outputs": [
        {
          "data": {
            "image/png": "[encoded data removed]",
            "text/plain": [
              "<Figure size 640x480 with 2 Axes>"
            ]
          },
          "metadata": {},
          "output_type": "display_data"
        }
      ],
      "source": [
        "# Plot confusion matrix\n",
        "sns.heatmap(cm, annot=True, cmap=\"crest\")\n",
        "plt.xlabel('Predicted')\n",
        "plt.ylabel('True')\n",
        "plt.show()"
      ]
    },
    {
      "cell_type": "markdown",
      "metadata": {},
      "source": [
        "Save processed data"
      ]
    },
    {
      "cell_type": "code",
      "execution_count": 17,
      "metadata": {
        "id": "-XtzbNzl_lCk"
      },
      "outputs": [],
      "source": [
        "# save processed data\n",
        "df.to_csv(\"sample_processed.csv\")"
      ]
    },
    {
      "cell_type": "markdown",
      "metadata": {
        "id": "OppN-_TR4bnB"
      },
      "source": [
        "# Process dataset"
      ]
    },
    {
      "cell_type": "code",
      "execution_count": null,
      "metadata": {},
      "outputs": [],
      "source": [
        "# new classifier model\n",
        "classifier = pipeline(\"zero-shot-classification\", model=\"facebook/bart-large-mnli\", revision=\"c626438\", device=\"mps\")"
      ]
    },
    {
      "cell_type": "code",
      "execution_count": 75,
      "metadata": {
        "colab": {
          "base_uri": "https://localhost:8080/",
          "height": 417
        },
        "id": "aH5vpzojn-et",
        "outputId": "47bf5e3c-b47b-47fa-b63a-f4bba1b6ddbb"
      },
      "outputs": [
        {
          "data": {
            "text/html": [
              "<div>\n",
              "<style scoped>\n",
              "    .dataframe tbody tr th:only-of-type {\n",
              "        vertical-align: middle;\n",
              "    }\n",
              "\n",
              "    .dataframe tbody tr th {\n",
              "        vertical-align: top;\n",
              "    }\n",
              "\n",
              "    .dataframe thead th {\n",
              "        text-align: right;\n",
              "    }\n",
              "</style>\n",
              "<table border=\"1\" class=\"dataframe\">\n",
              "  <thead>\n",
              "    <tr style=\"text-align: right;\">\n",
              "      <th></th>\n",
              "      <th>authorDisplayName</th>\n",
              "      <th>authorProfileImageUrl</th>\n",
              "      <th>authorChannelUrl</th>\n",
              "      <th>authorChannelId</th>\n",
              "      <th>channelId</th>\n",
              "      <th>videoId</th>\n",
              "      <th>textDisplay</th>\n",
              "      <th>textOriginal</th>\n",
              "      <th>parentId</th>\n",
              "      <th>canRate</th>\n",
              "      <th>viewerRating</th>\n",
              "      <th>likeCount</th>\n",
              "      <th>moderationStatus</th>\n",
              "      <th>publishedAt</th>\n",
              "      <th>updatedAt</th>\n",
              "    </tr>\n",
              "  </thead>\n",
              "  <tbody>\n",
              "    <tr>\n",
              "      <th>0</th>\n",
              "      <td>ITS_ PINKY</td>\n",
              "      <td>https://yt3.ggpht.com/aFFlcFsCFl6x7CDRwNcVQUYG...</td>\n",
              "      <td>http://www.youtube.com/channel/UCjCRVkRpUlHqfp...</td>\n",
              "      <td>{'value': 'UCjCRVkRpUlHqfp_gdpaBPOA'}</td>\n",
              "      <td>UCAQg09FkoobmLquNNoO4ulg</td>\n",
              "      <td>lKkIBuBKaYQ</td>\n",
              "      <td>Im sorry I&amp;#39;m Indonesia</td>\n",
              "      <td>Im sorry I'm Indonesia</td>\n",
              "      <td>NaN</td>\n",
              "      <td>True</td>\n",
              "      <td>none</td>\n",
              "      <td>0</td>\n",
              "      <td>NaN</td>\n",
              "      <td>2023-10-15T04:04:09Z</td>\n",
              "      <td>2023-10-15T04:04:09Z</td>\n",
              "    </tr>\n",
              "    <tr>\n",
              "      <th>1</th>\n",
              "      <td>Usha m</td>\n",
              "      <td>https://yt3.ggpht.com/ytc/APkrFKYIjAZ35MFIBV8A...</td>\n",
              "      <td>http://www.youtube.com/channel/UCSv68BgvNWFcgG...</td>\n",
              "      <td>{'value': 'UCSv68BgvNWFcgGGdjxBvLyw'}</td>\n",
              "      <td>UCAQg09FkoobmLquNNoO4ulg</td>\n",
              "      <td>ct_9X-gwKMs</td>\n",
              "      <td>American English</td>\n",
              "      <td>American English</td>\n",
              "      <td>NaN</td>\n",
              "      <td>True</td>\n",
              "      <td>none</td>\n",
              "      <td>0</td>\n",
              "      <td>NaN</td>\n",
              "      <td>2023-10-15T04:00:52Z</td>\n",
              "      <td>2023-10-15T04:00:52Z</td>\n",
              "    </tr>\n",
              "    <tr>\n",
              "      <th>2</th>\n",
              "      <td>Thandar MayOo</td>\n",
              "      <td>https://yt3.ggpht.com/ytc/APkrFKYn_Cfx3FQDMQ4L...</td>\n",
              "      <td>http://www.youtube.com/channel/UCsboc7dHyi3Uel...</td>\n",
              "      <td>{'value': 'UCsboc7dHyi3UelUbOX-S_Mw'}</td>\n",
              "      <td>UCAQg09FkoobmLquNNoO4ulg</td>\n",
              "      <td>qtlTMRyMWfU</td>\n",
              "      <td>thanks a lot teacher❤</td>\n",
              "      <td>thanks a lot teacher❤</td>\n",
              "      <td>NaN</td>\n",
              "      <td>True</td>\n",
              "      <td>none</td>\n",
              "      <td>0</td>\n",
              "      <td>NaN</td>\n",
              "      <td>2023-10-15T03:57:36Z</td>\n",
              "      <td>2023-10-15T03:57:36Z</td>\n",
              "    </tr>\n",
              "    <tr>\n",
              "      <th>3</th>\n",
              "      <td>my dreams mm</td>\n",
              "      <td>https://yt3.ggpht.com/P8FRE-AkxQArvRfemYoZ3mjJ...</td>\n",
              "      <td>http://www.youtube.com/channel/UCIzLlhvBSmWq7Q...</td>\n",
              "      <td>{'value': 'UCIzLlhvBSmWq7QOhP_kNerA'}</td>\n",
              "      <td>UCAQg09FkoobmLquNNoO4ulg</td>\n",
              "      <td>ct_9X-gwKMs</td>\n",
              "      <td>American</td>\n",
              "      <td>American</td>\n",
              "      <td>NaN</td>\n",
              "      <td>True</td>\n",
              "      <td>none</td>\n",
              "      <td>0</td>\n",
              "      <td>NaN</td>\n",
              "      <td>2023-10-15T03:26:21Z</td>\n",
              "      <td>2023-10-15T03:26:21Z</td>\n",
              "    </tr>\n",
              "    <tr>\n",
              "      <th>4</th>\n",
              "      <td>MrCodesYt</td>\n",
              "      <td>https://yt3.ggpht.com/49FlPza06B7Ol1-600H4zf1l...</td>\n",
              "      <td>http://www.youtube.com/channel/UCeeiZqY6_7mtGS...</td>\n",
              "      <td>{'value': 'UCeeiZqY6_7mtGSJLdw1x5Rw'}</td>\n",
              "      <td>UCAQg09FkoobmLquNNoO4ulg</td>\n",
              "      <td>ct_9X-gwKMs</td>\n",
              "      <td>Australians: Truck 🚛, Lolly 🍬, Cookie 🍪, Jumpe...</td>\n",
              "      <td>Australians: Truck 🚛, Lolly 🍬, Cookie 🍪, Jumpe...</td>\n",
              "      <td>NaN</td>\n",
              "      <td>True</td>\n",
              "      <td>none</td>\n",
              "      <td>0</td>\n",
              "      <td>NaN</td>\n",
              "      <td>2023-10-15T02:42:07Z</td>\n",
              "      <td>2023-10-15T02:42:07Z</td>\n",
              "    </tr>\n",
              "  </tbody>\n",
              "</table>\n",
              "</div>"
            ],
            "text/plain": [
              "  authorDisplayName                              authorProfileImageUrl  \\\n",
              "0        ITS_ PINKY  https://yt3.ggpht.com/aFFlcFsCFl6x7CDRwNcVQUYG...   \n",
              "1            Usha m  https://yt3.ggpht.com/ytc/APkrFKYIjAZ35MFIBV8A...   \n",
              "2     Thandar MayOo  https://yt3.ggpht.com/ytc/APkrFKYn_Cfx3FQDMQ4L...   \n",
              "3      my dreams mm  https://yt3.ggpht.com/P8FRE-AkxQArvRfemYoZ3mjJ...   \n",
              "4         MrCodesYt  https://yt3.ggpht.com/49FlPza06B7Ol1-600H4zf1l...   \n",
              "\n",
              "                                    authorChannelUrl  \\\n",
              "0  http://www.youtube.com/channel/UCjCRVkRpUlHqfp...   \n",
              "1  http://www.youtube.com/channel/UCSv68BgvNWFcgG...   \n",
              "2  http://www.youtube.com/channel/UCsboc7dHyi3Uel...   \n",
              "3  http://www.youtube.com/channel/UCIzLlhvBSmWq7Q...   \n",
              "4  http://www.youtube.com/channel/UCeeiZqY6_7mtGS...   \n",
              "\n",
              "                         authorChannelId                 channelId  \\\n",
              "0  {'value': 'UCjCRVkRpUlHqfp_gdpaBPOA'}  UCAQg09FkoobmLquNNoO4ulg   \n",
              "1  {'value': 'UCSv68BgvNWFcgGGdjxBvLyw'}  UCAQg09FkoobmLquNNoO4ulg   \n",
              "2  {'value': 'UCsboc7dHyi3UelUbOX-S_Mw'}  UCAQg09FkoobmLquNNoO4ulg   \n",
              "3  {'value': 'UCIzLlhvBSmWq7QOhP_kNerA'}  UCAQg09FkoobmLquNNoO4ulg   \n",
              "4  {'value': 'UCeeiZqY6_7mtGSJLdw1x5Rw'}  UCAQg09FkoobmLquNNoO4ulg   \n",
              "\n",
              "       videoId                                        textDisplay  \\\n",
              "0  lKkIBuBKaYQ                         Im sorry I&#39;m Indonesia   \n",
              "1  ct_9X-gwKMs                                   American English   \n",
              "2  qtlTMRyMWfU                              thanks a lot teacher❤   \n",
              "3  ct_9X-gwKMs                                           American   \n",
              "4  ct_9X-gwKMs  Australians: Truck 🚛, Lolly 🍬, Cookie 🍪, Jumpe...   \n",
              "\n",
              "                                        textOriginal  parentId  canRate  \\\n",
              "0                             Im sorry I'm Indonesia       NaN     True   \n",
              "1                                   American English       NaN     True   \n",
              "2                              thanks a lot teacher❤       NaN     True   \n",
              "3                                           American       NaN     True   \n",
              "4  Australians: Truck 🚛, Lolly 🍬, Cookie 🍪, Jumpe...       NaN     True   \n",
              "\n",
              "  viewerRating  likeCount  moderationStatus           publishedAt  \\\n",
              "0         none          0               NaN  2023-10-15T04:04:09Z   \n",
              "1         none          0               NaN  2023-10-15T04:00:52Z   \n",
              "2         none          0               NaN  2023-10-15T03:57:36Z   \n",
              "3         none          0               NaN  2023-10-15T03:26:21Z   \n",
              "4         none          0               NaN  2023-10-15T02:42:07Z   \n",
              "\n",
              "              updatedAt  \n",
              "0  2023-10-15T04:04:09Z  \n",
              "1  2023-10-15T04:00:52Z  \n",
              "2  2023-10-15T03:57:36Z  \n",
              "3  2023-10-15T03:26:21Z  \n",
              "4  2023-10-15T02:42:07Z  "
            ]
          },
          "execution_count": 75,
          "metadata": {},
          "output_type": "execute_result"
        }
      ],
      "source": [
        "# Read comments csv\n",
        "df = pd.read_csv(\"./comments.csv\")\n",
        "df.head()"
      ]
    },
    {
      "cell_type": "code",
      "execution_count": 76,
      "metadata": {
        "id": "MgTlNq5Irywi"
      },
      "outputs": [],
      "source": [
        "# input feature\n",
        "X = \"textOriginal\""
      ]
    },
    {
      "cell_type": "code",
      "execution_count": 77,
      "metadata": {
        "colab": {
          "base_uri": "https://localhost:8080/"
        },
        "id": "iq9CpEXSqaDU",
        "outputId": "2a1fda88-0a1c-41cc-a716-c53cdc37a3bb"
      },
      "outputs": [
        {
          "data": {
            "text/plain": [
              "1000"
            ]
          },
          "execution_count": 77,
          "metadata": {},
          "output_type": "execute_result"
        }
      ],
      "source": [
        "# remove null values\n",
        "df = df[df[X].notnull()]\n",
        "\n",
        "# remove empty strings\n",
        "df = df[df[X] != \"\"]\n",
        "\n",
        "# find number of samples\n",
        "len(df)"
      ]
    },
    {
      "cell_type": "code",
      "execution_count": 78,
      "metadata": {},
      "outputs": [
        {
          "name": "stderr",
          "output_type": "stream",
          "text": [
            "Assigning classifications: 100%|██████████| 1000/1000 [00:03<00:00, 318.15it/s]\n"
          ]
        },
        {
          "name": "stdout",
          "output_type": "stream",
          "text": [
            "lang\n",
            "en    733\n",
            "id     26\n",
            "tl     23\n",
            "de     17\n",
            "so     16\n",
            "ro     15\n",
            "ru     14\n",
            "af     13\n",
            "fr     12\n",
            "nl     10\n",
            "ca      9\n",
            "cy      9\n",
            "it      8\n",
            "sw      8\n",
            "tr      7\n",
            "hr      7\n",
            "th      6\n",
            "et      6\n",
            "sq      5\n",
            "da      4\n",
            "sl      4\n",
            "sv      3\n",
            "no      3\n",
            "hu      3\n",
            "pt      2\n",
            "fi      2\n",
            "bg      2\n",
            "es      2\n",
            "ar      2\n",
            "vi      1\n",
            "lv      1\n",
            "ko      1\n",
            "lt      1\n",
            "sk      1\n",
            "mk      1\n",
            "pl      1\n",
            "el      1\n",
            "bn      1\n",
            "Name: count, dtype: int64\n"
          ]
        },
        {
          "data": {
            "image/png": "[encoded data removed]",
            "text/plain": [
              "<Figure size 640x480 with 1 Axes>"
            ]
          },
          "metadata": {},
          "output_type": "display_data"
        }
      ],
      "source": [
        "# use detect to find language of inputs\n",
        "tqdm.pandas(desc='Detecting language')\n",
        "\n",
        "# Define a function to detect language with error handling\n",
        "def detect_language_with_error_handling(text):\n",
        "    try:\n",
        "        return detect(text)\n",
        "    except LangDetectException as e:\n",
        "        return None\n",
        "\n",
        "# apply detect language function\n",
        "df[\"lang\"] = df[X].progress_apply(detect_language_with_error_handling)\n",
        "\n",
        "# plot distribution of languages\n",
        "sns.countplot(df[\"lang\"])\n",
        "\n",
        "# print number of samples per language\n",
        "print(df[\"lang\"].value_counts())\n",
        "\n",
        "# filter out non-english comments\n",
        "df = df[df[\"lang\"] == \"en\"]"
      ]
    },
    {
      "cell_type": "code",
      "execution_count": 79,
      "metadata": {},
      "outputs": [
        {
          "name": "stdout",
          "output_type": "stream",
          "text": [
            "Number of labels: 15\n"
          ]
        }
      ],
      "source": [
        "# new classifer labels\n",
        "classifier_labels = [\n",
        "    \"Positive Feedback\",\n",
        "    \"Questions\",\n",
        "    \"Constructive Criticism\",\n",
        "    \"Irrelevant\",\n",
        "    \"Trolling\",\n",
        "    \"Community\",\n",
        "    \"Collaboration Offers\",\n",
        "    \"Timestamps\",\n",
        "    \"Error in the video\",\n",
        "    \"New Subscriber\",\n",
        "    \"Requests for Future Content\",\n",
        "    \"Technical Issues\",\n",
        "    \"Personal Story\",\n",
        "    \"Promoting socials\",\n",
        "    \"Joking\",\n",
        "]\n",
        "\n",
        "# y_pred\n",
        "y_pred = \"pred_label\"\n",
        "\n",
        "# print number of labels\n",
        "print(f\"Number of labels: {len(classifier_labels)}\")"
      ]
    },
    {
      "cell_type": "code",
      "execution_count": 80,
      "metadata": {},
      "outputs": [],
      "source": [
        "# use the classifier to return the classifier label with the highest score\n",
        "def predict(text: str):\n",
        "    classifications = classifier(text, classifier_labels)\n",
        "    scores = classifications[\"scores\"]\n",
        "    output_labels = classifications[\"labels\"]\n",
        "\n",
        "    # find index of highest score\n",
        "    highest_score_index = scores.index(max(scores))\n",
        "\n",
        "    # return label with highest score\n",
        "    return output_labels[highest_score_index]\n"
      ]
    },
    {
      "cell_type": "code",
      "execution_count": 81,
      "metadata": {
        "colab": {
          "base_uri": "https://localhost:8080/",
          "height": 535
        },
        "id": "g2JLlHrRp0PB",
        "outputId": "e7e98e1d-953f-482f-8be1-2bba30af2020"
      },
      "outputs": [
        {
          "name": "stderr",
          "output_type": "stream",
          "text": [
            "Assigning classifications: 100%|██████████| 100/100 [01:18<00:00,  1.28it/s]\n"
          ]
        }
      ],
      "source": [
        "# apply classifications on all rows of feature since none are empty\n",
        "tqdm.pandas(desc='Assigning classifications')\n",
        "\n",
        "predictions = pd.DataFrame()\n",
        "\n",
        "# no of rows to run predictions on\n",
        "n = 100\n",
        "\n",
        "# run predictions on the first n rows with progress apply\n",
        "predictions[y_pred] = df[X][:n].progress_apply(predict)\n",
        "df = pd.concat([df[:n], predictions], axis=1)"
      ]
    },
    {
      "cell_type": "code",
      "execution_count": 82,
      "metadata": {},
      "outputs": [
        {
          "data": {
            "text/plain": [
              "<Axes: xlabel='count', ylabel='pred_label'>"
            ]
          },
          "execution_count": 82,
          "metadata": {},
          "output_type": "execute_result"
        },
        {
          "data": {
            "image/png": "[encoded data removed]",
            "text/plain": [
              "<Figure size 640x480 with 1 Axes>"
            ]
          },
          "metadata": {},
          "output_type": "display_data"
        }
      ],
      "source": [
        "# plot distribution of predicted labels\n",
        "sns.countplot(df[y_pred])"
      ]
    },
    {
      "cell_type": "code",
      "execution_count": 83,
      "metadata": {},
      "outputs": [
        {
          "data": {
            "text/html": [
              "<div>\n",
              "<style scoped>\n",
              "    .dataframe tbody tr th:only-of-type {\n",
              "        vertical-align: middle;\n",
              "    }\n",
              "\n",
              "    .dataframe tbody tr th {\n",
              "        vertical-align: top;\n",
              "    }\n",
              "\n",
              "    .dataframe thead th {\n",
              "        text-align: right;\n",
              "    }\n",
              "</style>\n",
              "<table border=\"1\" class=\"dataframe\">\n",
              "  <thead>\n",
              "    <tr style=\"text-align: right;\">\n",
              "      <th></th>\n",
              "      <th>textOriginal</th>\n",
              "      <th>pred_label</th>\n",
              "    </tr>\n",
              "  </thead>\n",
              "  <tbody>\n",
              "    <tr>\n",
              "      <th>0</th>\n",
              "      <td>Im sorry I'm Indonesia</td>\n",
              "      <td>New Subscriber</td>\n",
              "    </tr>\n",
              "    <tr>\n",
              "      <th>1</th>\n",
              "      <td>American English</td>\n",
              "      <td>New Subscriber</td>\n",
              "    </tr>\n",
              "    <tr>\n",
              "      <th>2</th>\n",
              "      <td>thanks a lot teacher❤</td>\n",
              "      <td>Positive Feedback</td>\n",
              "    </tr>\n",
              "    <tr>\n",
              "      <th>3</th>\n",
              "      <td>American</td>\n",
              "      <td>Personal Story</td>\n",
              "    </tr>\n",
              "    <tr>\n",
              "      <th>4</th>\n",
              "      <td>Australians: Truck 🚛, Lolly 🍬, Cookie 🍪, Jumpe...</td>\n",
              "      <td>Positive Feedback</td>\n",
              "    </tr>\n",
              "    <tr>\n",
              "      <th>...</th>\n",
              "      <td>...</td>\n",
              "      <td>...</td>\n",
              "    </tr>\n",
              "    <tr>\n",
              "      <th>124</th>\n",
              "      <td>Ok i speak both 🗿</td>\n",
              "      <td>Joking</td>\n",
              "    </tr>\n",
              "    <tr>\n",
              "      <th>126</th>\n",
              "      <td>Its fresh FROIZZ</td>\n",
              "      <td>New Subscriber</td>\n",
              "    </tr>\n",
              "    <tr>\n",
              "      <th>127</th>\n",
              "      <td>Thank you Marina I am from uzbekistan I am a g...</td>\n",
              "      <td>Positive Feedback</td>\n",
              "    </tr>\n",
              "    <tr>\n",
              "      <th>128</th>\n",
              "      <td>Amrican-Eggplant \\nBritish-aubergine\\nMe-Dick,...</td>\n",
              "      <td>Joking</td>\n",
              "    </tr>\n",
              "    <tr>\n",
              "      <th>130</th>\n",
              "      <td>Thats not a sweet nor candy ITS A LOLLY</td>\n",
              "      <td>Joking</td>\n",
              "    </tr>\n",
              "  </tbody>\n",
              "</table>\n",
              "<p>100 rows × 2 columns</p>\n",
              "</div>"
            ],
            "text/plain": [
              "                                          textOriginal         pred_label\n",
              "0                               Im sorry I'm Indonesia     New Subscriber\n",
              "1                                     American English     New Subscriber\n",
              "2                                thanks a lot teacher❤  Positive Feedback\n",
              "3                                             American     Personal Story\n",
              "4    Australians: Truck 🚛, Lolly 🍬, Cookie 🍪, Jumpe...  Positive Feedback\n",
              "..                                                 ...                ...\n",
              "124                                  Ok i speak both 🗿             Joking\n",
              "126                                   Its fresh FROIZZ     New Subscriber\n",
              "127  Thank you Marina I am from uzbekistan I am a g...  Positive Feedback\n",
              "128  Amrican-Eggplant \\nBritish-aubergine\\nMe-Dick,...             Joking\n",
              "130            Thats not a sweet nor candy ITS A LOLLY             Joking\n",
              "\n",
              "[100 rows x 2 columns]"
            ]
          },
          "execution_count": 83,
          "metadata": {},
          "output_type": "execute_result"
        }
      ],
      "source": [
        "# Show label beside predicted label\n",
        "df[[X, y_pred]]"
      ]
    },
    {
      "cell_type": "code",
      "execution_count": 84,
      "metadata": {},
      "outputs": [],
      "source": [
        "# save processed data\n",
        "df.to_csv(\"comments_processed.csv\")"
      ]
    },
    {
      "cell_type": "code",
      "execution_count": 87,
      "metadata": {},
      "outputs": [
        {
          "data": {
            "text/plain": [
              "64"
            ]
          },
          "execution_count": 87,
          "metadata": {},
          "output_type": "execute_result"
        }
      ],
      "source": [
        "tokens = classifier.tokenizer.tokenize(\"I just wanted to say a big thank you for your amazing YouTube content that has helped me improve my English so much! 🙌📚 Your videos are awesome, and I'm truly grateful for all the valuable lessons and tips you share. Keep up the fantastic work! 💓👏🌟\")\n",
        "ids = classifier.tokenizer.convert_tokens_to_ids(tokens)\n",
        "\n",
        "len(ids)"
      ]
    },
    {
      "cell_type": "code",
      "execution_count": 88,
      "metadata": {},
      "outputs": [
        {
          "data": {
            "application/vnd.jupyter.widget-view+json": {
              "model_id": "df34f8d3c88b414e8209878bd2b61a93",
              "version_major": 2,
              "version_minor": 0
            },
            "text/plain": [
              "Downloading (…)e9125/.gitattributes:   0%|          | 0.00/1.18k [00:00<?, ?B/s]"
            ]
          },
          "metadata": {},
          "output_type": "display_data"
        },
        {
          "data": {
            "application/vnd.jupyter.widget-view+json": {
              "model_id": "38d76d4572184a9fbed2fcf79142c77b",
              "version_major": 2,
              "version_minor": 0
            },
            "text/plain": [
              "Downloading (…)_Pooling/config.json:   0%|          | 0.00/190 [00:00<?, ?B/s]"
            ]
          },
          "metadata": {},
          "output_type": "display_data"
        },
        {
          "data": {
            "application/vnd.jupyter.widget-view+json": {
              "model_id": "bbb7bbdd6c92474489ae2d0ea320ada0",
              "version_major": 2,
              "version_minor": 0
            },
            "text/plain": [
              "Downloading (…)7e55de9125/README.md:   0%|          | 0.00/10.6k [00:00<?, ?B/s]"
            ]
          },
          "metadata": {},
          "output_type": "display_data"
        },
        {
          "data": {
            "application/vnd.jupyter.widget-view+json": {
              "model_id": "a5c005881256413fb7d65102456331a8",
              "version_major": 2,
              "version_minor": 0
            },
            "text/plain": [
              "Downloading (…)55de9125/config.json:   0%|          | 0.00/612 [00:00<?, ?B/s]"
            ]
          },
          "metadata": {},
          "output_type": "display_data"
        },
        {
          "data": {
            "application/vnd.jupyter.widget-view+json": {
              "model_id": "40f6bd1466d74a1a98b00a2289644f06",
              "version_major": 2,
              "version_minor": 0
            },
            "text/plain": [
              "Downloading (…)ce_transformers.json:   0%|          | 0.00/116 [00:00<?, ?B/s]"
            ]
          },
          "metadata": {},
          "output_type": "display_data"
        },
        {
          "data": {
            "application/vnd.jupyter.widget-view+json": {
              "model_id": "af53429a073245f4bfaeff024093c8ba",
              "version_major": 2,
              "version_minor": 0
            },
            "text/plain": [
              "Downloading (…)125/data_config.json:   0%|          | 0.00/39.3k [00:00<?, ?B/s]"
            ]
          },
          "metadata": {},
          "output_type": "display_data"
        },
        {
          "data": {
            "application/vnd.jupyter.widget-view+json": {
              "model_id": "a624b0137e674b81bfac6480d964b5ba",
              "version_major": 2,
              "version_minor": 0
            },
            "text/plain": [
              "Downloading pytorch_model.bin:   0%|          | 0.00/90.9M [00:00<?, ?B/s]"
            ]
          },
          "metadata": {},
          "output_type": "display_data"
        },
        {
          "data": {
            "application/vnd.jupyter.widget-view+json": {
              "model_id": "55c24fd7f5f7443e8d7e51078474e9e6",
              "version_major": 2,
              "version_minor": 0
            },
            "text/plain": [
              "Downloading (…)nce_bert_config.json:   0%|          | 0.00/53.0 [00:00<?, ?B/s]"
            ]
          },
          "metadata": {},
          "output_type": "display_data"
        },
        {
          "data": {
            "application/vnd.jupyter.widget-view+json": {
              "model_id": "d8c3b343b49246df9e36e0de6b2d4edd",
              "version_major": 2,
              "version_minor": 0
            },
            "text/plain": [
              "Downloading (…)cial_tokens_map.json:   0%|          | 0.00/112 [00:00<?, ?B/s]"
            ]
          },
          "metadata": {},
          "output_type": "display_data"
        },
        {
          "data": {
            "application/vnd.jupyter.widget-view+json": {
              "model_id": "4b5427318d56445bae394b5a6ab711a2",
              "version_major": 2,
              "version_minor": 0
            },
            "text/plain": [
              "Downloading (…)e9125/tokenizer.json:   0%|          | 0.00/466k [00:00<?, ?B/s]"
            ]
          },
          "metadata": {},
          "output_type": "display_data"
        },
        {
          "data": {
            "application/vnd.jupyter.widget-view+json": {
              "model_id": "4bf912919ae647699a54525ceab6da5c",
              "version_major": 2,
              "version_minor": 0
            },
            "text/plain": [
              "Downloading (…)okenizer_config.json:   0%|          | 0.00/350 [00:00<?, ?B/s]"
            ]
          },
          "metadata": {},
          "output_type": "display_data"
        },
        {
          "data": {
            "application/vnd.jupyter.widget-view+json": {
              "model_id": "573168daba4142fc942408b18a8182c7",
              "version_major": 2,
              "version_minor": 0
            },
            "text/plain": [
              "Downloading (…)9125/train_script.py:   0%|          | 0.00/13.2k [00:00<?, ?B/s]"
            ]
          },
          "metadata": {},
          "output_type": "display_data"
        },
        {
          "data": {
            "application/vnd.jupyter.widget-view+json": {
              "model_id": "ca6b2c6703754c48846e1e06e4c68074",
              "version_major": 2,
              "version_minor": 0
            },
            "text/plain": [
              "Downloading (…)7e55de9125/vocab.txt:   0%|          | 0.00/232k [00:00<?, ?B/s]"
            ]
          },
          "metadata": {},
          "output_type": "display_data"
        },
        {
          "data": {
            "application/vnd.jupyter.widget-view+json": {
              "model_id": "d896dc2161f640a9ab49211d7199ec24",
              "version_major": 2,
              "version_minor": 0
            },
            "text/plain": [
              "Downloading (…)5de9125/modules.json:   0%|          | 0.00/349 [00:00<?, ?B/s]"
            ]
          },
          "metadata": {},
          "output_type": "display_data"
        }
      ],
      "source": [
        "from sentence_transformers import SentenceTransformer\n",
        "\n",
        "model = SentenceTransformer(\"sentence-transformers/all-MiniLM-L6-v2\")"
      ]
    },
    {
      "cell_type": "code",
      "execution_count": 178,
      "metadata": {},
      "outputs": [],
      "source": [
        "# np random seed\n",
        "import numpy as np\n",
        "np.random.seed(0)"
      ]
    },
    {
      "cell_type": "code",
      "execution_count": 179,
      "metadata": {},
      "outputs": [
        {
          "data": {
            "text/html": [
              "<div>\n",
              "<style scoped>\n",
              "    .dataframe tbody tr th:only-of-type {\n",
              "        vertical-align: middle;\n",
              "    }\n",
              "\n",
              "    .dataframe tbody tr th {\n",
              "        vertical-align: top;\n",
              "    }\n",
              "\n",
              "    .dataframe thead th {\n",
              "        text-align: right;\n",
              "    }\n",
              "</style>\n",
              "<table border=\"1\" class=\"dataframe\">\n",
              "  <thead>\n",
              "    <tr style=\"text-align: right;\">\n",
              "      <th></th>\n",
              "      <th>authorDisplayName</th>\n",
              "      <th>authorProfileImageUrl</th>\n",
              "      <th>authorChannelUrl</th>\n",
              "      <th>authorChannelId</th>\n",
              "      <th>channelId</th>\n",
              "      <th>videoId</th>\n",
              "      <th>textDisplay</th>\n",
              "      <th>textOriginal</th>\n",
              "      <th>parentId</th>\n",
              "      <th>canRate</th>\n",
              "      <th>viewerRating</th>\n",
              "      <th>likeCount</th>\n",
              "      <th>moderationStatus</th>\n",
              "      <th>publishedAt</th>\n",
              "      <th>updatedAt</th>\n",
              "    </tr>\n",
              "  </thead>\n",
              "  <tbody>\n",
              "    <tr>\n",
              "      <th>0</th>\n",
              "      <td>ITS_ PINKY</td>\n",
              "      <td>https://yt3.ggpht.com/aFFlcFsCFl6x7CDRwNcVQUYG...</td>\n",
              "      <td>http://www.youtube.com/channel/UCjCRVkRpUlHqfp...</td>\n",
              "      <td>{'value': 'UCjCRVkRpUlHqfp_gdpaBPOA'}</td>\n",
              "      <td>UCAQg09FkoobmLquNNoO4ulg</td>\n",
              "      <td>lKkIBuBKaYQ</td>\n",
              "      <td>Im sorry I&amp;#39;m Indonesia</td>\n",
              "      <td>Im sorry I'm Indonesia</td>\n",
              "      <td>NaN</td>\n",
              "      <td>True</td>\n",
              "      <td>none</td>\n",
              "      <td>0</td>\n",
              "      <td>NaN</td>\n",
              "      <td>2023-10-15T04:04:09Z</td>\n",
              "      <td>2023-10-15T04:04:09Z</td>\n",
              "    </tr>\n",
              "    <tr>\n",
              "      <th>1</th>\n",
              "      <td>Usha m</td>\n",
              "      <td>https://yt3.ggpht.com/ytc/APkrFKYIjAZ35MFIBV8A...</td>\n",
              "      <td>http://www.youtube.com/channel/UCSv68BgvNWFcgG...</td>\n",
              "      <td>{'value': 'UCSv68BgvNWFcgGGdjxBvLyw'}</td>\n",
              "      <td>UCAQg09FkoobmLquNNoO4ulg</td>\n",
              "      <td>ct_9X-gwKMs</td>\n",
              "      <td>American English</td>\n",
              "      <td>American English</td>\n",
              "      <td>NaN</td>\n",
              "      <td>True</td>\n",
              "      <td>none</td>\n",
              "      <td>0</td>\n",
              "      <td>NaN</td>\n",
              "      <td>2023-10-15T04:00:52Z</td>\n",
              "      <td>2023-10-15T04:00:52Z</td>\n",
              "    </tr>\n",
              "    <tr>\n",
              "      <th>2</th>\n",
              "      <td>Thandar MayOo</td>\n",
              "      <td>https://yt3.ggpht.com/ytc/APkrFKYn_Cfx3FQDMQ4L...</td>\n",
              "      <td>http://www.youtube.com/channel/UCsboc7dHyi3Uel...</td>\n",
              "      <td>{'value': 'UCsboc7dHyi3UelUbOX-S_Mw'}</td>\n",
              "      <td>UCAQg09FkoobmLquNNoO4ulg</td>\n",
              "      <td>qtlTMRyMWfU</td>\n",
              "      <td>thanks a lot teacher❤</td>\n",
              "      <td>thanks a lot teacher❤</td>\n",
              "      <td>NaN</td>\n",
              "      <td>True</td>\n",
              "      <td>none</td>\n",
              "      <td>0</td>\n",
              "      <td>NaN</td>\n",
              "      <td>2023-10-15T03:57:36Z</td>\n",
              "      <td>2023-10-15T03:57:36Z</td>\n",
              "    </tr>\n",
              "    <tr>\n",
              "      <th>3</th>\n",
              "      <td>my dreams mm</td>\n",
              "      <td>https://yt3.ggpht.com/P8FRE-AkxQArvRfemYoZ3mjJ...</td>\n",
              "      <td>http://www.youtube.com/channel/UCIzLlhvBSmWq7Q...</td>\n",
              "      <td>{'value': 'UCIzLlhvBSmWq7QOhP_kNerA'}</td>\n",
              "      <td>UCAQg09FkoobmLquNNoO4ulg</td>\n",
              "      <td>ct_9X-gwKMs</td>\n",
              "      <td>American</td>\n",
              "      <td>American</td>\n",
              "      <td>NaN</td>\n",
              "      <td>True</td>\n",
              "      <td>none</td>\n",
              "      <td>0</td>\n",
              "      <td>NaN</td>\n",
              "      <td>2023-10-15T03:26:21Z</td>\n",
              "      <td>2023-10-15T03:26:21Z</td>\n",
              "    </tr>\n",
              "    <tr>\n",
              "      <th>4</th>\n",
              "      <td>MrCodesYt</td>\n",
              "      <td>https://yt3.ggpht.com/49FlPza06B7Ol1-600H4zf1l...</td>\n",
              "      <td>http://www.youtube.com/channel/UCeeiZqY6_7mtGS...</td>\n",
              "      <td>{'value': 'UCeeiZqY6_7mtGSJLdw1x5Rw'}</td>\n",
              "      <td>UCAQg09FkoobmLquNNoO4ulg</td>\n",
              "      <td>ct_9X-gwKMs</td>\n",
              "      <td>Australians: Truck 🚛, Lolly 🍬, Cookie 🍪, Jumpe...</td>\n",
              "      <td>Australians: Truck 🚛, Lolly 🍬, Cookie 🍪, Jumpe...</td>\n",
              "      <td>NaN</td>\n",
              "      <td>True</td>\n",
              "      <td>none</td>\n",
              "      <td>0</td>\n",
              "      <td>NaN</td>\n",
              "      <td>2023-10-15T02:42:07Z</td>\n",
              "      <td>2023-10-15T02:42:07Z</td>\n",
              "    </tr>\n",
              "  </tbody>\n",
              "</table>\n",
              "</div>"
            ],
            "text/plain": [
              "  authorDisplayName                              authorProfileImageUrl  \\\n",
              "0        ITS_ PINKY  https://yt3.ggpht.com/aFFlcFsCFl6x7CDRwNcVQUYG...   \n",
              "1            Usha m  https://yt3.ggpht.com/ytc/APkrFKYIjAZ35MFIBV8A...   \n",
              "2     Thandar MayOo  https://yt3.ggpht.com/ytc/APkrFKYn_Cfx3FQDMQ4L...   \n",
              "3      my dreams mm  https://yt3.ggpht.com/P8FRE-AkxQArvRfemYoZ3mjJ...   \n",
              "4         MrCodesYt  https://yt3.ggpht.com/49FlPza06B7Ol1-600H4zf1l...   \n",
              "\n",
              "                                    authorChannelUrl  \\\n",
              "0  http://www.youtube.com/channel/UCjCRVkRpUlHqfp...   \n",
              "1  http://www.youtube.com/channel/UCSv68BgvNWFcgG...   \n",
              "2  http://www.youtube.com/channel/UCsboc7dHyi3Uel...   \n",
              "3  http://www.youtube.com/channel/UCIzLlhvBSmWq7Q...   \n",
              "4  http://www.youtube.com/channel/UCeeiZqY6_7mtGS...   \n",
              "\n",
              "                         authorChannelId                 channelId  \\\n",
              "0  {'value': 'UCjCRVkRpUlHqfp_gdpaBPOA'}  UCAQg09FkoobmLquNNoO4ulg   \n",
              "1  {'value': 'UCSv68BgvNWFcgGGdjxBvLyw'}  UCAQg09FkoobmLquNNoO4ulg   \n",
              "2  {'value': 'UCsboc7dHyi3UelUbOX-S_Mw'}  UCAQg09FkoobmLquNNoO4ulg   \n",
              "3  {'value': 'UCIzLlhvBSmWq7QOhP_kNerA'}  UCAQg09FkoobmLquNNoO4ulg   \n",
              "4  {'value': 'UCeeiZqY6_7mtGSJLdw1x5Rw'}  UCAQg09FkoobmLquNNoO4ulg   \n",
              "\n",
              "       videoId                                        textDisplay  \\\n",
              "0  lKkIBuBKaYQ                         Im sorry I&#39;m Indonesia   \n",
              "1  ct_9X-gwKMs                                   American English   \n",
              "2  qtlTMRyMWfU                              thanks a lot teacher❤   \n",
              "3  ct_9X-gwKMs                                           American   \n",
              "4  ct_9X-gwKMs  Australians: Truck 🚛, Lolly 🍬, Cookie 🍪, Jumpe...   \n",
              "\n",
              "                                        textOriginal  parentId  canRate  \\\n",
              "0                             Im sorry I'm Indonesia       NaN     True   \n",
              "1                                   American English       NaN     True   \n",
              "2                              thanks a lot teacher❤       NaN     True   \n",
              "3                                           American       NaN     True   \n",
              "4  Australians: Truck 🚛, Lolly 🍬, Cookie 🍪, Jumpe...       NaN     True   \n",
              "\n",
              "  viewerRating  likeCount  moderationStatus           publishedAt  \\\n",
              "0         none          0               NaN  2023-10-15T04:04:09Z   \n",
              "1         none          0               NaN  2023-10-15T04:00:52Z   \n",
              "2         none          0               NaN  2023-10-15T03:57:36Z   \n",
              "3         none          0               NaN  2023-10-15T03:26:21Z   \n",
              "4         none          0               NaN  2023-10-15T02:42:07Z   \n",
              "\n",
              "              updatedAt  \n",
              "0  2023-10-15T04:04:09Z  \n",
              "1  2023-10-15T04:00:52Z  \n",
              "2  2023-10-15T03:57:36Z  \n",
              "3  2023-10-15T03:26:21Z  \n",
              "4  2023-10-15T02:42:07Z  "
            ]
          },
          "execution_count": 179,
          "metadata": {},
          "output_type": "execute_result"
        }
      ],
      "source": [
        "# Read comments csv\n",
        "df = pd.read_csv(\"./comments.csv\")\n",
        "df.head()"
      ]
    },
    {
      "cell_type": "code",
      "execution_count": 180,
      "metadata": {},
      "outputs": [
        {
          "name": "stderr",
          "output_type": "stream",
          "text": [
            "Detecting language: 100%|██████████| 1000/1000 [00:03<00:00, 317.44it/s]\n"
          ]
        },
        {
          "name": "stdout",
          "output_type": "stream",
          "text": [
            "lang\n",
            "en    740\n",
            "id     26\n",
            "tl     23\n",
            "de     18\n",
            "so     15\n",
            "fr     14\n",
            "ro     14\n",
            "ru     13\n",
            "af     13\n",
            "ca      9\n",
            "nl      8\n",
            "it      8\n",
            "sw      8\n",
            "sq      7\n",
            "hr      7\n",
            "cy      7\n",
            "tr      6\n",
            "th      6\n",
            "da      5\n",
            "et      4\n",
            "bg      3\n",
            "no      3\n",
            "hu      3\n",
            "sv      2\n",
            "pt      2\n",
            "sl      2\n",
            "ar      2\n",
            "es      2\n",
            "ko      1\n",
            "mk      1\n",
            "vi      1\n",
            "fi      1\n",
            "lv      1\n",
            "lt      1\n",
            "cs      1\n",
            "pl      1\n",
            "el      1\n",
            "bn      1\n",
            "Name: count, dtype: int64\n"
          ]
        },
        {
          "data": {
            "image/png": "[encoded data removed]",
            "text/plain": [
              "<Figure size 640x480 with 1 Axes>"
            ]
          },
          "metadata": {},
          "output_type": "display_data"
        }
      ],
      "source": [
        "# use detect to find language of inputs\n",
        "tqdm.pandas(desc='Detecting language')\n",
        "\n",
        "# Define a function to detect language with error handling\n",
        "def detect_language_with_error_handling(text):\n",
        "    try:\n",
        "        return detect(text)\n",
        "    except LangDetectException as e:\n",
        "        return None\n",
        "\n",
        "# apply detect language function\n",
        "df[\"lang\"] = df[X].progress_apply(detect_language_with_error_handling)\n",
        "\n",
        "# plot distribution of languages\n",
        "sns.countplot(df[\"lang\"])\n",
        "\n",
        "# print number of samples per language\n",
        "print(df[\"lang\"].value_counts())\n",
        "\n",
        "# filter out non-english comments\n",
        "df = df[df[\"lang\"] == \"en\"]"
      ]
    },
    {
      "cell_type": "code",
      "execution_count": 181,
      "metadata": {},
      "outputs": [
        {
          "name": "stderr",
          "output_type": "stream",
          "text": [
            "Detecting language: 100%|██████████| 740/740 [00:06<00:00, 106.67it/s]\n"
          ]
        }
      ],
      "source": [
        "# get the embedding of the label\n",
        "df[\"embedding\"] = df[X].progress_apply(lambda x: model.encode(x))"
      ]
    },
    {
      "cell_type": "code",
      "execution_count": 182,
      "metadata": {},
      "outputs": [
        {
          "name": "stderr",
          "output_type": "stream",
          "text": [
            "/Users/flerovious/Documents/agent/.venv/lib/python3.9/site-packages/sklearn/cluster/_kmeans.py:1416: FutureWarning: The default value of `n_init` will change from 10 to 'auto' in 1.4. Set the value of `n_init` explicitly to suppress the warning\n",
            "  super()._check_params_vs_input(X, default_n_init=10)\n"
          ]
        }
      ],
      "source": [
        "# perform k-means clustering on the embeddings\n",
        "from sklearn.cluster import KMeans\n",
        "\n",
        "n_clusters = 5\n",
        "kmeans = KMeans(n_clusters=n_clusters, random_state=0).fit(df[\"embedding\"].tolist())\n",
        "\n",
        "# add cluster labels to dataframe\n",
        "df[\"cluster\"] = kmeans.labels_"
      ]
    },
    {
      "cell_type": "code",
      "execution_count": 183,
      "metadata": {},
      "outputs": [],
      "source": [
        "# save X, cluster as cluster.csv\n",
        "df[[X, \"cluster\"]].to_csv(\"cluster.csv\")"
      ]
    },
    {
      "cell_type": "code",
      "execution_count": 184,
      "metadata": {},
      "outputs": [
        {
          "data": {
            "text/plain": [
              "cluster\n",
              "1    229\n",
              "3    197\n",
              "0    176\n",
              "4     74\n",
              "2     64\n",
              "Name: count, dtype: int64"
            ]
          },
          "execution_count": 184,
          "metadata": {},
          "output_type": "execute_result"
        }
      ],
      "source": [
        "# find value counts of clusters\n",
        "df[\"cluster\"].value_counts()"
      ]
    },
    {
      "cell_type": "code",
      "execution_count": 185,
      "metadata": {},
      "outputs": [],
      "source": [
        "# cluster 1 seems to be very effective in picking out actionables when n = 5 for kmeans"
      ]
    },
    {
      "cell_type": "code",
      "execution_count": 186,
      "metadata": {},
      "outputs": [],
      "source": [
        "# # filter out comments with cluster 1\n",
        "# df = df[df[\"cluster\"] == 1]\n",
        "\n",
        "# # apply classifier on filtered comments\n",
        "# tqdm.pandas(desc='Assigning classifications')\n",
        "\n",
        "# predictions = pd.DataFrame()\n",
        "\n",
        "# # no of rows to run predictions on\n",
        "# n = -1\n",
        "\n",
        "# # run predictions on the first n rows with progress apply\n",
        "# predictions[y_pred] = df[X][:n].progress_apply(predict)\n",
        "# df = pd.concat([df[:n], predictions], axis=1)\n",
        "\n",
        "# # plot distribution of predicted labels\n",
        "# sns.countplot(df[y_pred])\n",
        "\n",
        "# # Show label beside predicted label\n",
        "# df[[X, y_pred]]"
      ]
    },
    {
      "cell_type": "code",
      "execution_count": 187,
      "metadata": {},
      "outputs": [],
      "source": [
        "# save processed data\n",
        "df.to_csv(\"cluster_classify.csv\")"
      ]
    },
    {
      "cell_type": "code",
      "execution_count": 188,
      "metadata": {},
      "outputs": [],
      "source": [
        "# open cluster_classify_best.csv and save only the X, y_pred and cluster columns\n",
        "df = pd.read_csv(\"cluster_classify_best.csv\")\n",
        "df = df[[X, y_pred, \"cluster\"]]\n",
        "df.to_csv(\"cluster_classify_best.csv\")"
      ]
    },
    {
      "cell_type": "code",
      "execution_count": null,
      "metadata": {},
      "outputs": [],
      "source": []
    }
  ],
  "metadata": {
    "colab": {
      "provenance": []
    },
    "kernelspec": {
      "display_name": "Python 3",
      "name": "python3"
    },
    "language_info": {
      "codemirror_mode": {
        "name": "ipython",
        "version": 3
      },
      "file_extension": ".py",
      "mimetype": "text/x-python",
      "name": "python",
      "nbconvert_exporter": "python",
      "pygments_lexer": "ipython3",
      "version": "3.9.18"
    }
  },
  "nbformat": 4,
  "nbformat_minor": 0
}
