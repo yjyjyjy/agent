{
  "cells": [
    {
      "cell_type": "markdown",
      "metadata": {
        "id": "TWBGGtqD4uVc"
      },
      "source": [
        "# Install and import dependencies"
      ]
    },
    {
      "cell_type": "markdown",
      "metadata": {
        "id": "H-Q4wodi1PZY"
      },
      "source": [
        "Install the Transformers, Datasets, and Evaluate libraries to run this notebook."
      ]
    },
    {
      "cell_type": "markdown",
      "metadata": {
        "id": "vgPUVK_m407W"
      },
      "source": [
        "Load imports"
      ]
    },
    {
      "cell_type": "code",
      "execution_count": 1,
      "metadata": {
        "id": "ablOp3yB410Z"
      },
      "outputs": [],
      "source": [
        "from transformers import pipeline\n",
        "\n",
        "from tqdm import tqdm\n",
        "import pandas as pd\n",
        "import seaborn as sns\n",
        "import matplotlib.pyplot as plt\n",
        "\n",
        "from sklearn.metrics import accuracy_score, classification_report, confusion_matrix"
      ]
    },
    {
      "cell_type": "markdown",
      "metadata": {
        "id": "Xk3qCJsF49Es"
      },
      "source": [
        "# Load classifier"
      ]
    },
    {
      "cell_type": "code",
      "execution_count": 2,
      "metadata": {
        "colab": {
          "base_uri": "https://localhost:8080/"
        },
        "id": "2EkQincS1TYH",
        "outputId": "f77779e8-afa9-49bc-a1bd-a262ccba1b9f"
      },
      "outputs": [],
      "source": [
        "classifier = pipeline(\"zero-shot-classification\", model=\"facebook/bart-large-mnli\", revision=\"c626438\", device=\"mps\")"
      ]
    },
    {
      "cell_type": "code",
      "execution_count": 3,
      "metadata": {},
      "outputs": [],
      "source": [
        "sample_rename_mappings = {\n",
        "  \"Interested in products or services\": \"random\",\n",
        "  \"Requests\": \"video request\",\n",
        "  \"Compliments\": \"compliment\",\n",
        "  \"Questions (can be potential leads)\": \"question\",\n",
        "  \"Hate Speech\": \"hate_speech\",\n",
        "  \"Random\": \"random\",\n",
        "  \"Problems with products or services\": \"problem\"\n",
        "}\n",
        "classifier_labels = [v for k,v in sample_rename_mappings.items()]"
      ]
    },
    {
      "cell_type": "code",
      "execution_count": 4,
      "metadata": {
        "id": "mnvcaGe32Jay"
      },
      "outputs": [
        {
          "data": {
            "text/plain": [
              "{'sequence': \"Dear Marina,I just wanted to say a big thank you for your amazing YouTube content that has helped me improve my English so much! 🙌📚 Your videos are awesome, and I'm truly grateful for all the valuable lessons and tips you share. Keep up the fantastic work! 💓👏🌟\",\n",
              " 'labels': ['compliment',\n",
              "  'video request',\n",
              "  'question',\n",
              "  'problem',\n",
              "  'random',\n",
              "  'random',\n",
              "  'hate_speech'],\n",
              " 'scores': [0.7603687047958374,\n",
              "  0.15332449972629547,\n",
              "  0.029150063171982765,\n",
              "  0.022072985768318176,\n",
              "  0.014438104815781116,\n",
              "  0.014438104815781116,\n",
              "  0.0062075089663267136]}"
            ]
          },
          "execution_count": 4,
          "metadata": {},
          "output_type": "execute_result"
        }
      ],
      "source": [
        "result = classifier(\n",
        "    \"Dear Marina,I just wanted to say a big thank you for your amazing YouTube content that has helped me improve my English so much! 🙌📚 Your videos are awesome, and I'm truly grateful for all the valuable lessons and tips you share. Keep up the fantastic work! 💓👏🌟\",\n",
        "    candidate_labels=classifier_labels,\n",
        ")\n",
        "result\n"
      ]
    },
    {
      "cell_type": "code",
      "execution_count": 5,
      "metadata": {
        "id": "tuMh2hS7lwbJ"
      },
      "outputs": [],
      "source": [
        "def process_text(text: str):\n",
        "    classifications = classifier(text, classifier_labels)\n",
        "    scores = classifications[\"scores\"]\n",
        "\n",
        "    return pd.Series({f\"pred_{label}\": score for label, score in zip(classifier_labels, scores)})"
      ]
    },
    {
      "cell_type": "markdown",
      "metadata": {
        "id": "aJpjRIMD4fzB"
      },
      "source": [
        "# Test classifier on sample dataset"
      ]
    },
    {
      "cell_type": "code",
      "execution_count": 6,
      "metadata": {
        "colab": {
          "base_uri": "https://localhost:8080/",
          "height": 206
        },
        "id": "6WcpuoHsvKkJ",
        "outputId": "4453c376-86d3-4efd-f4de-990da2a2854c"
      },
      "outputs": [
        {
          "data": {
            "text/html": [
              "<div>\n",
              "<style scoped>\n",
              "    .dataframe tbody tr th:only-of-type {\n",
              "        vertical-align: middle;\n",
              "    }\n",
              "\n",
              "    .dataframe tbody tr th {\n",
              "        vertical-align: top;\n",
              "    }\n",
              "\n",
              "    .dataframe thead th {\n",
              "        text-align: right;\n",
              "    }\n",
              "</style>\n",
              "<table border=\"1\" class=\"dataframe\">\n",
              "  <thead>\n",
              "    <tr style=\"text-align: right;\">\n",
              "      <th></th>\n",
              "      <th>label</th>\n",
              "      <th>comment</th>\n",
              "    </tr>\n",
              "  </thead>\n",
              "  <tbody>\n",
              "    <tr>\n",
              "      <th>0</th>\n",
              "      <td>Interested in products or services</td>\n",
              "      <td>Yes Marina, It's essential for me to learn Eng...</td>\n",
              "    </tr>\n",
              "    <tr>\n",
              "      <th>1</th>\n",
              "      <td>Interested in products or services</td>\n",
              "      <td>That's what I've always wanted</td>\n",
              "    </tr>\n",
              "    <tr>\n",
              "      <th>2</th>\n",
              "      <td>Interested in products or services</td>\n",
              "      <td>I am not a professional guy. I am just studyin...</td>\n",
              "    </tr>\n",
              "    <tr>\n",
              "      <th>3</th>\n",
              "      <td>Interested in products or services</td>\n",
              "      <td>Do you think it's still essential to learn Eng...</td>\n",
              "    </tr>\n",
              "    <tr>\n",
              "      <th>4</th>\n",
              "      <td>Interested in products or services</td>\n",
              "      <td>Hi Marina, thanks for sharing these useful vid...</td>\n",
              "    </tr>\n",
              "  </tbody>\n",
              "</table>\n",
              "</div>"
            ],
            "text/plain": [
              "                                label  \\\n",
              "0  Interested in products or services   \n",
              "1  Interested in products or services   \n",
              "2  Interested in products or services   \n",
              "3  Interested in products or services   \n",
              "4  Interested in products or services   \n",
              "\n",
              "                                             comment  \n",
              "0  Yes Marina, It's essential for me to learn Eng...  \n",
              "1                     That's what I've always wanted  \n",
              "2  I am not a professional guy. I am just studyin...  \n",
              "3  Do you think it's still essential to learn Eng...  \n",
              "4  Hi Marina, thanks for sharing these useful vid...  "
            ]
          },
          "execution_count": 6,
          "metadata": {},
          "output_type": "execute_result"
        }
      ],
      "source": [
        "df = pd.read_csv(\"sample.csv\")\n",
        "df.head()"
      ]
    },
    {
      "cell_type": "code",
      "execution_count": 7,
      "metadata": {},
      "outputs": [
        {
          "data": {
            "text/plain": [
              "label\n",
              "random           15\n",
              "video request     8\n",
              "compliment        8\n",
              "question          5\n",
              "hate_speech       2\n",
              "Name: count, dtype: int64"
            ]
          },
          "execution_count": 7,
          "metadata": {},
          "output_type": "execute_result"
        }
      ],
      "source": [
        "y = \"label\"\n",
        "\n",
        "# Rename labels\n",
        "df[y] = df[y].replace(sample_rename_mappings)\n",
        "\n",
        "df[y].value_counts()"
      ]
    },
    {
      "cell_type": "code",
      "execution_count": 8,
      "metadata": {
        "colab": {
          "base_uri": "https://localhost:8080/"
        },
        "id": "iKE2Xgyk3-0X",
        "outputId": "8da9e158-f57e-4db3-805a-99bb50a59732"
      },
      "outputs": [
        {
          "name": "stdout",
          "output_type": "stream",
          "text": [
            "Total number of samples: 38\n"
          ]
        },
        {
          "data": {
            "image/png": "[encoded data removed]",
            "text/plain": [
              "<Figure size 640x480 with 1 Axes>"
            ]
          },
          "metadata": {},
          "output_type": "display_data"
        }
      ],
      "source": [
        "# plot distribution of labels\n",
        "sns.countplot(df[y])\n",
        "\n",
        "# write total number of samples\n",
        "print(f\"Total number of samples: {len(df)}\")"
      ]
    },
    {
      "cell_type": "code",
      "execution_count": 9,
      "metadata": {
        "colab": {
          "base_uri": "https://localhost:8080/"
        },
        "id": "5a91NzUmvo9K",
        "outputId": "4b0397d3-b9fe-468a-a488-f0f9fe1040c5"
      },
      "outputs": [
        {
          "name": "stderr",
          "output_type": "stream",
          "text": [
            "Assigning classifications: 100%|██████████| 38/38 [01:03<00:00,  1.68s/it]\n"
          ]
        }
      ],
      "source": [
        "# apply classifications\n",
        "tqdm.pandas(desc='Assigning classifications')\n",
        "\n",
        "X = \"comment\"\n",
        "result_df = df[X].progress_apply(process_text)\n",
        "df = pd.concat([df, result_df], axis=1)"
      ]
    },
    {
      "cell_type": "code",
      "execution_count": 10,
      "metadata": {
        "id": "xZ-tLtxe9-1K"
      },
      "outputs": [],
      "source": [
        "y_pred_values = [f\"pred_{x}\" for x in classifier_labels]\n",
        "\n",
        "def get_highest_prediction_label(row):\n",
        "  scores = {label: row[label] for label in y_pred_values}\n",
        "  highest_label = max(scores, key=scores.get)\n",
        "  return highest_label[5:]"
      ]
    },
    {
      "cell_type": "code",
      "execution_count": 11,
      "metadata": {
        "colab": {
          "base_uri": "https://localhost:8080/",
          "height": 206
        },
        "id": "EM0hYTAUANlK",
        "outputId": "5bb64e4a-3dfd-47b8-d14a-cd5f16b3d7a4"
      },
      "outputs": [
        {
          "data": {
            "text/html": [
              "<div>\n",
              "<style scoped>\n",
              "    .dataframe tbody tr th:only-of-type {\n",
              "        vertical-align: middle;\n",
              "    }\n",
              "\n",
              "    .dataframe tbody tr th {\n",
              "        vertical-align: top;\n",
              "    }\n",
              "\n",
              "    .dataframe thead th {\n",
              "        text-align: right;\n",
              "    }\n",
              "</style>\n",
              "<table border=\"1\" class=\"dataframe\">\n",
              "  <thead>\n",
              "    <tr style=\"text-align: right;\">\n",
              "      <th></th>\n",
              "      <th>label</th>\n",
              "      <th>pred_label</th>\n",
              "    </tr>\n",
              "  </thead>\n",
              "  <tbody>\n",
              "    <tr>\n",
              "      <th>0</th>\n",
              "      <td>random</td>\n",
              "      <td>video request</td>\n",
              "    </tr>\n",
              "    <tr>\n",
              "      <th>1</th>\n",
              "      <td>random</td>\n",
              "      <td>video request</td>\n",
              "    </tr>\n",
              "    <tr>\n",
              "      <th>2</th>\n",
              "      <td>random</td>\n",
              "      <td>video request</td>\n",
              "    </tr>\n",
              "    <tr>\n",
              "      <th>3</th>\n",
              "      <td>random</td>\n",
              "      <td>video request</td>\n",
              "    </tr>\n",
              "    <tr>\n",
              "      <th>4</th>\n",
              "      <td>random</td>\n",
              "      <td>video request</td>\n",
              "    </tr>\n",
              "  </tbody>\n",
              "</table>\n",
              "</div>"
            ],
            "text/plain": [
              "    label     pred_label\n",
              "0  random  video request\n",
              "1  random  video request\n",
              "2  random  video request\n",
              "3  random  video request\n",
              "4  random  video request"
            ]
          },
          "execution_count": 11,
          "metadata": {},
          "output_type": "execute_result"
        }
      ],
      "source": [
        "y_pred = f\"pred_{y}\"\n",
        "\n",
        "df[y_pred] = df.apply(get_highest_prediction_label, axis=1)\n",
        "df[[y, y_pred]].head()"
      ]
    },
    {
      "cell_type": "code",
      "execution_count": 12,
      "metadata": {},
      "outputs": [
        {
          "data": {
            "text/plain": [
              "<Axes: xlabel='count', ylabel='pred_label'>"
            ]
          },
          "execution_count": 12,
          "metadata": {},
          "output_type": "execute_result"
        },
        {
          "data": {
            "image/png": "[encoded data removed]",
            "text/plain": [
              "<Figure size 640x480 with 1 Axes>"
            ]
          },
          "metadata": {},
          "output_type": "display_data"
        }
      ],
      "source": [
        "# plot distribution of predicted labels\n",
        "sns.countplot(df[y_pred])"
      ]
    },
    {
      "cell_type": "markdown",
      "metadata": {
        "id": "VwqwtOJ88B_R"
      },
      "source": [
        "Find evaluation metrics"
      ]
    },
    {
      "cell_type": "code",
      "execution_count": 13,
      "metadata": {},
      "outputs": [
        {
          "data": {
            "text/plain": [
              "0.21052631578947367"
            ]
          },
          "execution_count": 13,
          "metadata": {},
          "output_type": "execute_result"
        }
      ],
      "source": [
        "# Calculate accuracy\n",
        "accuracy_score(df[y], df[y_pred])"
      ]
    },
    {
      "cell_type": "code",
      "execution_count": 14,
      "metadata": {},
      "outputs": [],
      "source": [
        "# Generate confusion matrix\n",
        "cm = confusion_matrix(y_true=df[y], y_pred=df[y_pred])"
      ]
    },
    {
      "cell_type": "code",
      "execution_count": 15,
      "metadata": {
        "colab": {
          "base_uri": "https://localhost:8080/"
        },
        "id": "Wx1tdXVw70Xc",
        "outputId": "0a8f9ef2-44c0-4f75-90a3-5496be72e0c6"
      },
      "outputs": [
        {
          "name": "stdout",
          "output_type": "stream",
          "text": [
            "               precision    recall  f1-score   support\n",
            "\n",
            "   compliment       0.00      0.00      0.00         8\n",
            "  hate_speech       0.00      0.00      0.00         2\n",
            "     question       0.00      0.00      0.00         5\n",
            "       random       0.00      0.00      0.00        15\n",
            "video request       0.21      1.00      0.35         8\n",
            "\n",
            "     accuracy                           0.21        38\n",
            "    macro avg       0.04      0.20      0.07        38\n",
            " weighted avg       0.04      0.21      0.07        38\n",
            "\n"
          ]
        },
        {
          "name": "stderr",
          "output_type": "stream",
          "text": [
            "/Users/flerovious/Documents/agent/.venv/lib/python3.9/site-packages/sklearn/metrics/_classification.py:1469: UndefinedMetricWarning: Precision and F-score are ill-defined and being set to 0.0 in labels with no predicted samples. Use `zero_division` parameter to control this behavior.\n",
            "  _warn_prf(average, modifier, msg_start, len(result))\n",
            "/Users/flerovious/Documents/agent/.venv/lib/python3.9/site-packages/sklearn/metrics/_classification.py:1469: UndefinedMetricWarning: Precision and F-score are ill-defined and being set to 0.0 in labels with no predicted samples. Use `zero_division` parameter to control this behavior.\n",
            "  _warn_prf(average, modifier, msg_start, len(result))\n",
            "/Users/flerovious/Documents/agent/.venv/lib/python3.9/site-packages/sklearn/metrics/_classification.py:1469: UndefinedMetricWarning: Precision and F-score are ill-defined and being set to 0.0 in labels with no predicted samples. Use `zero_division` parameter to control this behavior.\n",
            "  _warn_prf(average, modifier, msg_start, len(result))\n"
          ]
        }
      ],
      "source": [
        "# Generate a classification report, including precision, recall, and F1-score\n",
        "print(classification_report(y_true=df[y], y_pred=df[y_pred]))"
      ]
    },
    {
      "cell_type": "code",
      "execution_count": 16,
      "metadata": {
        "colab": {
          "base_uri": "https://localhost:8080/",
          "height": 455
        },
        "id": "IM6YeXRG8jkf",
        "outputId": "60d398e3-f316-4e15-e81b-d6d4bc25b775"
      },
      "outputs": [
        {
          "data": {
            "image/png": "[encoded data removed]",
            "text/plain": [
              "<Figure size 640x480 with 2 Axes>"
            ]
          },
          "metadata": {},
          "output_type": "display_data"
        }
      ],
      "source": [
        "# Plot confusion matrix\n",
        "sns.heatmap(cm, annot=True, cmap=\"crest\")\n",
        "plt.xlabel('Predicted')\n",
        "plt.ylabel('True')\n",
        "plt.show()"
      ]
    },
    {
      "cell_type": "markdown",
      "metadata": {},
      "source": [
        "Save processed data"
      ]
    },
    {
      "cell_type": "code",
      "execution_count": 17,
      "metadata": {
        "id": "-XtzbNzl_lCk"
      },
      "outputs": [],
      "source": [
        "# save processed data\n",
        "df.to_csv(\"sample_processed.csv\")"
      ]
    }
  ],
  "metadata": {
    "colab": {
      "provenance": []
    },
    "kernelspec": {
      "display_name": "Python 3",
      "name": "python3"
    },
    "language_info": {
      "codemirror_mode": {
        "name": "ipython",
        "version": 3
      },
      "file_extension": ".py",
      "mimetype": "text/x-python",
      "name": "python",
      "nbconvert_exporter": "python",
      "pygments_lexer": "ipython3",
      "version": "3.9.18"
    }
  },
  "nbformat": 4,
  "nbformat_minor": 0
}
